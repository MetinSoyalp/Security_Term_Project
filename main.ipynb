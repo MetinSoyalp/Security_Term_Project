{
 "cells": [
  {
   "cell_type": "code",
   "execution_count": null,
   "metadata": {},
   "outputs": [],
   "source": [
    "from email import message_from_string\n",
    "import pandas as pd\n",
    "import re"
   ]
  },
  {
   "cell_type": "code",
   "execution_count": null,
   "metadata": {},
   "outputs": [],
   "source": [
    "df = pd.read_csv(\"./dataset/Processed_datasets/spamassassin_dataset.csv\")\n",
    "\n",
    "def extract_mail_components(text):\n",
    "    try:\n",
    "        msg = message_from_string(text)\n",
    "        m_body = msg.get_payload()\n",
    "        m_from = msg.get('From', '')\n",
    "        m_return = msg.get('Return-Path', '')\n",
    "\n",
    "        re_find = r'<([^>]*)>' \n",
    "\n",
    "        m_from = re.findall(re_find, m_from)[0] if re.findall(re_find, m_from) else ''\n",
    "        m_return = re.findall(re_find, m_return)[0] if re.findall(re_find, m_return) else ''\n",
    "\n",
    "        m_body = str(m_body)\n",
    "        m_from = str(m_from)\n",
    "        m_return = str(m_return)\n",
    "\n",
    "        return m_body, m_from, m_return\n",
    "    except Exception as e:\n",
    "        print(f\"Error processing text: {text[:100]}... Error: {e}\")\n",
    "        return '', '', ''  # Return empty values if there is an error processing the text\n",
    "\n",
    "def extract_urls(text):\n",
    "    import re\n",
    "    url_list = []\n",
    "    ipv4_pattern = r'(?:https?|ftp)?://(?:\\d{1,3}\\.){3}\\d{1,3}(?::\\d+)?(?:/\\S*)?'\n",
    "    url_pattern = (\n",
    "        r'(?:(?:https?|ftp):\\/\\/)?'\n",
    "        r'(?:[a-zA-Z0-9.%+-]+:[a-zA-Z0-9.%+-]+@)?'\n",
    "        r'(?:www\\.)?[a-zA-Z0-9.-]+\\.[a-zA-Z]{2,}'\n",
    "        r'(?:\\/\\S*)?'\n",
    "        r'|'\n",
    "        + ipv4_pattern\n",
    "    )\n",
    "    email_pattern = r'[a-zA-Z0-9._%+-]+@[a-zA-Z0-9.-]+\\.[a-zA-Z]{2,}'\n",
    "\n",
    "    # Split the input string into words\n",
    "    words = text.split()\n",
    "\n",
    "    for word in words:\n",
    "        if re.fullmatch(email_pattern, word):\n",
    "            # Check if it also matches a URL and additional conditions\n",
    "            if re.fullmatch(url_pattern, word):\n",
    "                if word.count('@') > 1 or \":\" in word.split('@')[-1]:\n",
    "                    url_list.append(word)\n",
    "        elif re.fullmatch(url_pattern, word):\n",
    "            url_list.append(word)\n",
    "\n",
    "    return url_list\n",
    "\n",
    "\n",
    "df[['Body', 'From', 'Return-Path']] = df['Content'].apply(extract_mail_components).apply(pd.Series)\n",
    "df['Urls'] = df['Body'].apply(extract_urls)\n"
   ]
  },
  {
   "cell_type": "code",
   "execution_count": null,
   "metadata": {},
   "outputs": [],
   "source": []
  }
 ],
 "metadata": {
  "kernelspec": {
   "display_name": "Python 3",
   "language": "python",
   "name": "python3"
  },
  "language_info": {
   "codemirror_mode": {
    "name": "ipython",
    "version": 3
   },
   "file_extension": ".py",
   "mimetype": "text/x-python",
   "name": "python",
   "nbconvert_exporter": "python",
   "pygments_lexer": "ipython3",
   "version": "3.12.0"
  }
 },
 "nbformat": 4,
 "nbformat_minor": 2
}
