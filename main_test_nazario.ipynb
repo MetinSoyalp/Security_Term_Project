{
 "cells": [
  {
   "cell_type": "code",
   "execution_count": 1,
   "metadata": {},
   "outputs": [
    {
     "name": "stderr",
     "output_type": "stream",
     "text": [
      "c:\\Users\\Asus\\AppData\\Local\\Programs\\Python\\Python312\\Lib\\site-packages\\tqdm\\auto.py:21: TqdmWarning: IProgress not found. Please update jupyter and ipywidgets. See https://ipywidgets.readthedocs.io/en/stable/user_install.html\n",
      "  from .autonotebook import tqdm as notebook_tqdm\n"
     ]
    }
   ],
   "source": [
    "from email import message_from_string\n",
    "from sklearn.model_selection import train_test_split\n",
    "from transformers import BertTokenizer, BertForSequenceClassification, Trainer, TrainingArguments\n",
    "from sklearn.metrics import accuracy_score, classification_report\n",
    "import pandas as pd\n",
    "import torch\n",
    "import re"
   ]
  },
  {
   "cell_type": "code",
   "execution_count": 2,
   "metadata": {},
   "outputs": [],
   "source": [
    "df = pd.read_csv(\"./dataset/Processed_datasets/nazario_2015_dataset.csv\")\n",
    "\n",
    "def extract_mail_components(text):\n",
    "    try:\n",
    "        msg = message_from_string(text)\n",
    "        m_body = msg.get_payload()\n",
    "        m_from = msg.get('From', '')\n",
    "        m_return = msg.get('Return-Path', '')\n",
    "\n",
    "        re_find = r'<([^>]*)>' \n",
    "\n",
    "        m_from = re.findall(re_find, m_from)[0] if re.findall(re_find, m_from) else ''\n",
    "        m_return = re.findall(re_find, m_return)[0] if re.findall(re_find, m_return) else ''\n",
    "\n",
    "        m_body = str(m_body)\n",
    "        m_from = str(m_from)\n",
    "        m_return = str(m_return)\n",
    "\n",
    "        return m_body, m_from, m_return\n",
    "    except Exception as e:\n",
    "        print(f\"Error processing text: {text[:100]}... Error: {e}\")\n",
    "        return '', '', ''  # Return empty values if there is an error processing the text\n",
    "\n",
    "def extract_urls(text):\n",
    "    import re\n",
    "    url_list = []\n",
    "    ipv4_pattern = r'(?:https?|ftp)?://(?:\\d{1,3}\\.){3}\\d{1,3}(?::\\d+)?(?:/\\S*)?'\n",
    "    url_pattern = (\n",
    "        r'(?:(?:https?|ftp):\\/\\/)?'\n",
    "        r'(?:[a-zA-Z0-9.%+-]+:[a-zA-Z0-9.%+-]+@)?'\n",
    "        r'(?:www\\.)?[a-zA-Z0-9.-]+\\.[a-zA-Z]{2,}'\n",
    "        r'(?:\\/\\S*)?'\n",
    "        r'|'\n",
    "        + ipv4_pattern\n",
    "    )\n",
    "    email_pattern = r'[a-zA-Z0-9._%+-]+@[a-zA-Z0-9.-]+\\.[a-zA-Z]{2,}'\n",
    "\n",
    "    # Split the input string into words\n",
    "    words = text.split()\n",
    "\n",
    "    for word in words:\n",
    "        if re.fullmatch(email_pattern, word):\n",
    "            # Check if it also matches a URL and additional conditions\n",
    "            if re.fullmatch(url_pattern, word):\n",
    "                if word.count('@') > 1 or \":\" in word.split('@')[-1]:\n",
    "                    url_list.append(word)\n",
    "        elif re.fullmatch(url_pattern, word):\n",
    "            url_list.append(word)\n",
    "\n",
    "    return url_list\n",
    "\n",
    "\n",
    "df[['Body', 'From', 'Return-Path']] = df['Content'].apply(extract_mail_components).apply(pd.Series)\n",
    "df['Urls'] = df['Body'].apply(extract_urls)\n",
    "\n",
    "test_texts = df['Body'].tolist()\n",
    "test_labels = df['Label'].tolist()\n",
    "\n",
    "tokenizer = BertTokenizer.from_pretrained(\"saved_model_bodyOnly\")\n",
    "model = BertForSequenceClassification.from_pretrained(\"saved_model_bodyOnly\")\n",
    "\n",
    "# Tokenize data\n",
    "test_encodings = tokenizer(test_texts, truncation=True, padding=True, max_length=512, return_tensors=\"pt\")"
   ]
  },
  {
   "cell_type": "code",
   "execution_count": 3,
   "metadata": {},
   "outputs": [],
   "source": [
    "class Dataset(torch.utils.data.Dataset):\n",
    "    def __init__(self, encodings, labels):\n",
    "        self.encodings = encodings\n",
    "        self.labels = labels\n",
    "\n",
    "    def __len__(self):\n",
    "        return len(self.labels)\n",
    "\n",
    "    def __getitem__(self, idx):\n",
    "        item = {key: torch.tensor(val[idx]) for key, val in self.encodings.items()}\n",
    "        item['labels'] = torch.tensor(self.labels[idx])\n",
    "        return item\n",
    "\n",
    "test_dataset = Dataset(test_encodings, test_labels)"
   ]
  },
  {
   "cell_type": "code",
   "execution_count": 4,
   "metadata": {},
   "outputs": [
    {
     "name": "stderr",
     "output_type": "stream",
     "text": [
      "C:\\Users\\Asus\\AppData\\Local\\Temp\\ipykernel_13924\\1587964162.py:10: UserWarning: To copy construct from a tensor, it is recommended to use sourceTensor.clone().detach() or sourceTensor.clone().detach().requires_grad_(True), rather than torch.tensor(sourceTensor).\n",
      "  item = {key: torch.tensor(val[idx]) for key, val in self.encodings.items()}\n"
     ]
    },
    {
     "name": "stdout",
     "output_type": "stream",
     "text": [
      "Accuracy: 0.3137254901960784\n",
      "Classification Report:\n",
      "               precision    recall  f1-score   support\n",
      "\n",
      "           0       0.00      0.00      0.00         0\n",
      "           1       1.00      0.31      0.48       306\n",
      "\n",
      "    accuracy                           0.31       306\n",
      "   macro avg       0.50      0.16      0.24       306\n",
      "weighted avg       1.00      0.31      0.48       306\n",
      "\n"
     ]
    },
    {
     "name": "stderr",
     "output_type": "stream",
     "text": [
      "c:\\Users\\Asus\\AppData\\Local\\Programs\\Python\\Python312\\Lib\\site-packages\\sklearn\\metrics\\_classification.py:1509: UndefinedMetricWarning: Recall is ill-defined and being set to 0.0 in labels with no true samples. Use `zero_division` parameter to control this behavior.\n",
      "  _warn_prf(average, modifier, f\"{metric.capitalize()} is\", len(result))\n",
      "c:\\Users\\Asus\\AppData\\Local\\Programs\\Python\\Python312\\Lib\\site-packages\\sklearn\\metrics\\_classification.py:1509: UndefinedMetricWarning: Recall is ill-defined and being set to 0.0 in labels with no true samples. Use `zero_division` parameter to control this behavior.\n",
      "  _warn_prf(average, modifier, f\"{metric.capitalize()} is\", len(result))\n",
      "c:\\Users\\Asus\\AppData\\Local\\Programs\\Python\\Python312\\Lib\\site-packages\\sklearn\\metrics\\_classification.py:1509: UndefinedMetricWarning: Recall is ill-defined and being set to 0.0 in labels with no true samples. Use `zero_division` parameter to control this behavior.\n",
      "  _warn_prf(average, modifier, f\"{metric.capitalize()} is\", len(result))\n"
     ]
    }
   ],
   "source": [
    "test_loader = torch.utils.data.DataLoader(test_dataset, batch_size=16)\n",
    "model.eval()\n",
    "preds = []\n",
    "true_labels = []\n",
    "\n",
    "with torch.no_grad():\n",
    "    for batch in test_loader:\n",
    "        inputs = {key: val.to(model.device) for key, val in batch.items() if key != 'labels'}\n",
    "        outputs = model(**inputs)\n",
    "        preds.extend(torch.argmax(outputs.logits, axis=1).cpu().numpy())\n",
    "        true_labels.extend(batch['labels'].cpu().numpy())\n",
    "\n",
    "# Evaluation metrics\n",
    "print(\"Accuracy:\", accuracy_score(true_labels, preds))\n",
    "print(\"Classification Report:\\n\", classification_report(true_labels, preds))"
   ]
  },
  {
   "cell_type": "code",
   "execution_count": 5,
   "metadata": {},
   "outputs": [
    {
     "name": "stdout",
     "output_type": "stream",
     "text": [
      "Confusion Matrix:\n",
      " [[  0   0]\n",
      " [210  96]]\n"
     ]
    },
    {
     "data": {
      "image/png": "[encoded data removed]",
      "text/plain": [
       "<Figure size 800x600 with 2 Axes>"
      ]
     },
     "metadata": {},
     "output_type": "display_data"
    }
   ],
   "source": [
    "from sklearn.metrics import confusion_matrix, ConfusionMatrixDisplay\n",
    "import matplotlib.pyplot as plt\n",
    "import seaborn as sns\n",
    "\n",
    "# Compute confusion matrix\n",
    "cm = confusion_matrix(true_labels, preds)\n",
    "print(\"Confusion Matrix:\\n\", cm)\n",
    "\n",
    "# Plot confusion matrix with seaborn\n",
    "plt.figure(figsize=(8, 6))\n",
    "sns.heatmap(cm, annot=True, fmt='d', cmap='Blues', xticklabels=['Non-Phishing', 'Phishing'], yticklabels=['Non-Phishing', 'Phishing'])\n",
    "plt.xlabel('Predicted Labels')\n",
    "plt.ylabel('True Labels')\n",
    "plt.title('Confusion Matrix')\n",
    "plt.show()"
   ]
  }
 ],
 "metadata": {
  "kernelspec": {
   "display_name": "Python 3",
   "language": "python",
   "name": "python3"
  },
  "language_info": {
   "codemirror_mode": {
    "name": "ipython",
    "version": 3
   },
   "file_extension": ".py",
   "mimetype": "text/x-python",
   "name": "python",
   "nbconvert_exporter": "python",
   "pygments_lexer": "ipython3",
   "version": "3.12.0"
  }
 },
 "nbformat": 4,
 "nbformat_minor": 2
}
