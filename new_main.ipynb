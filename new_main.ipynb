{
 "cells": [
  {
   "cell_type": "code",
   "execution_count": 1,
   "metadata": {},
   "outputs": [
    {
     "name": "stderr",
     "output_type": "stream",
     "text": [
      "c:\\Users\\Asus\\AppData\\Local\\Programs\\Python\\Python312\\Lib\\site-packages\\tqdm\\auto.py:21: TqdmWarning: IProgress not found. Please update jupyter and ipywidgets. See https://ipywidgets.readthedocs.io/en/stable/user_install.html\n",
      "  from .autonotebook import tqdm as notebook_tqdm\n"
     ]
    }
   ],
   "source": [
    "from email import message_from_string\n",
    "from sklearn.model_selection import train_test_split\n",
    "from transformers import BertTokenizer, BertForSequenceClassification, Trainer, TrainingArguments\n",
    "from sklearn.metrics import accuracy_score, classification_report\n",
    "from bs4 import BeautifulSoup\n",
    "import pandas as pd\n",
    "import torch\n",
    "import re"
   ]
  },
  {
   "cell_type": "code",
   "execution_count": 2,
   "metadata": {},
   "outputs": [],
   "source": [
    "df = pd.read_csv(\"./dataset/Processed_datasets/spamassassin_dataset.csv\")\n",
    "\n",
    "def extract_mail_components(text):\n",
    "    try:\n",
    "        msg = message_from_string(text)\n",
    "        m_body = msg.get_payload()\n",
    "        m_from = msg.get('From', '')\n",
    "        m_return = msg.get('Return-Path', '')\n",
    "\n",
    "        re_find = r'<([^>]*)>' \n",
    "\n",
    "        m_from = re.findall(re_find, m_from)[0] if re.findall(re_find, m_from) else ''\n",
    "        m_return = re.findall(re_find, m_return)[0] if re.findall(re_find, m_return) else ''\n",
    "\n",
    "        m_body = str(m_body)\n",
    "        m_from = str(m_from)\n",
    "        m_return = str(m_return)\n",
    "\n",
    "        return m_body, m_from, m_return\n",
    "    except Exception as e:\n",
    "        print(f\"Error processing text: {text[:100]}... Error: {e}\")\n",
    "        return '', '', ''  # Return empty values if there is an error processing the text\n",
    "\n",
    "def extract_urls(text):\n",
    "    import re\n",
    "    url_list = []\n",
    "    ipv4_pattern = r'(?:https?|ftp)?://(?:\\d{1,3}\\.){3}\\d{1,3}(?::\\d+)?(?:/\\S*)?'\n",
    "    url_pattern = (\n",
    "        r'(?:(?:https?|ftp):\\/\\/)?'\n",
    "        r'(?:[a-zA-Z0-9.%+-]+:[a-zA-Z0-9.%+-]+@)?'\n",
    "        r'(?:www\\.)?[a-zA-Z0-9.-]+\\.[a-zA-Z]{2,}'\n",
    "        r'(?:\\/\\S*)?'\n",
    "        r'|'\n",
    "        + ipv4_pattern\n",
    "    )\n",
    "    email_pattern = r'[a-zA-Z0-9._%+-]+@[a-zA-Z0-9.-]+\\.[a-zA-Z]{2,}'\n",
    "\n",
    "    # Split the input string into words\n",
    "    words = text.split()\n",
    "\n",
    "    for word in words:\n",
    "        if re.fullmatch(email_pattern, word):\n",
    "            # Check if it also matches a URL and additional conditions\n",
    "            if re.fullmatch(url_pattern, word):\n",
    "                if word.count('@') > 1 or \":\" in word.split('@')[-1]:\n",
    "                    url_list.append(word)\n",
    "        elif re.fullmatch(url_pattern, word):\n",
    "            url_list.append(word)\n",
    "\n",
    "    return url_list\n",
    "\n",
    "# Function to check if 'From' header contains an IP address\n",
    "def contains_ip_address(from_header):\n",
    "    # Regex pattern for matching IPv4 addresses\n",
    "    ip_pattern = r'(?:\\d{1,3}\\.){3}\\d{1,3}'\n",
    "    # Check if the 'From' header matches the IP address pattern\n",
    "    return bool(re.search(ip_pattern, from_header))\n",
    "\n",
    "# Function to check if domains match between 'From' and 'Return-Path'\n",
    "def domains_match(from_email, return_path_email):\n",
    "    # Extract domains from email addresses\n",
    "    domain_pattern = r'@([a-zA-Z0-9.-]+\\.[a-zA-Z]{2,})'\n",
    "    from_domain = re.search(domain_pattern, from_email)\n",
    "    return_path_domain = re.search(domain_pattern, return_path_email)\n",
    "\n",
    "    # Return True if domains match, False otherwise\n",
    "    if from_domain and return_path_domain:\n",
    "        return from_domain.group(1) == return_path_domain.group(1)\n",
    "    return False  # Return False if either domain is missing\n",
    "\n",
    "# Function to check if 'Return-Path' is missing\n",
    "def is_return_path_missing(return_path):\n",
    "    return not return_path.strip()  # True if 'Return-Path' is empty or contains only whitespace\n",
    "\n",
    "# Function to count special characters in a string\n",
    "def count_special_characters(text):\n",
    "    # Regex to match special characters (anything not alphanumeric or whitespace)\n",
    "    special_char_pattern = r'[^a-zA-Z0-9\\s]'\n",
    "    # Find all matches and return the count\n",
    "    return len(re.findall(special_char_pattern, text))\n",
    "\n",
    "def contains_http(url_list):\n",
    "    \"\"\"\n",
    "    Check if any URL in the list uses 'http' instead of 'https'.\n",
    "    Return 1 if 'http' URLs are found, otherwise 0.\n",
    "    \"\"\"\n",
    "    for url in url_list:\n",
    "        if url.startswith(\"http://\"):\n",
    "            return True  # Return 1 if an 'http' URL is found\n",
    "    return False  # Return 0 if no 'http' URL is found\n",
    "\n",
    "def contains_ip(url_list):\n",
    "    \"\"\"\n",
    "    Check if any URL in the list contains an IP address in X.X.X.X format.\n",
    "    Return 1 if an IP address is found, otherwise 0.\n",
    "    \"\"\"\n",
    "    # Regular expression to match IP address format in the URL\n",
    "    ipv4_pattern = r'(?:\\d{1,3}\\.){3}\\d{1,3}'\n",
    "    \n",
    "    for url in url_list:\n",
    "        # Check if the URL contains an IP address in the X.X.X.X format\n",
    "        if re.search(ipv4_pattern, url):\n",
    "            return True  # Return 1 if an IP address is found\n",
    "    return False  # Return 0 if no IP address is found\n",
    "\n",
    "def contains_html(text):\n",
    "    # Regex to match valid HTML tags\n",
    "    html_pattern = r'<[a-zA-Z][a-zA-Z0-9-]*(\\s+[a-zA-Z_:][a-zA-Z0-9_\\-:]*=\"[^\"]*\")*\\s*\\/?>'\n",
    "    \n",
    "    # Exclude patterns that are not valid HTML\n",
    "    invalid_tag_patterns = [\n",
    "        #r'<[a-zA-Z0-9.-]+>',  # Tags like <cwg-dated-1030377287.06fa6d>\n",
    "        r'<[a-zA-Z0-9._%-]+@[a-zA-Z0-9.-]+>',  # Email-like patterns\n",
    "        r'<\\d+>',  # Numeric-only tags like <12345>\n",
    "        r'<[a-zA-Z0-9._%-]+(\\.\\w+)+>'  # File-like patterns like <file-name.doc>\n",
    "    ]\n",
    "    \n",
    "    # Check for valid HTML tags\n",
    "    if re.search(html_pattern, text):\n",
    "        # Ensure it doesn't match invalid tag patterns\n",
    "        for pattern in invalid_tag_patterns:\n",
    "            if re.search(pattern, text):\n",
    "                return False\n",
    "        return True\n",
    "    return False\n",
    "\n",
    "def contains_redirect(url_list):\n",
    "    \"\"\"\n",
    "    Check if any URL in the list contains structural patterns indicating redirection.\n",
    "    Return 1 if a redirect pattern is detected, otherwise 0.\n",
    "    \"\"\"\n",
    "    for url in url_list:\n",
    "\n",
    "        if url.startswith(\"mailto:\"):\n",
    "            continue\n",
    "\n",
    "        # Check for multiple `//` after the protocol (excluding `http://` or `https://`)\n",
    "        if url.count(\"//\") > 1:\n",
    "            return True  # Redirect detected\n",
    "\n",
    "        # Check for the presence of `@` in the URL\n",
    "        if \"@\" in url:\n",
    "            return True  # Redirect detected\n",
    "\n",
    "    return False  # No redirect pattern detected\n",
    "\n",
    "def count_special_characters_in_urls(url_list):\n",
    "    \"\"\"\n",
    "    Count the total number of special characters in all URLs within the list.\n",
    "    Special characters are defined as any non-alphanumeric and non-space characters.\n",
    "    \"\"\"\n",
    "    # Define the regex pattern for special characters\n",
    "    special_char_pattern = r'[^a-zA-Z0-9\\s]'\n",
    "\n",
    "    total_count = 0\n",
    "    for url in url_list:\n",
    "        # Count the number of special characters in each URL using the regex pattern\n",
    "        total_count += len(re.findall(special_char_pattern, url))\n",
    "    \n",
    "    return total_count\n",
    "\n",
    "def length_of_longest_url(url_list):\n",
    "    \"\"\"\n",
    "    Find the length of the longest URL in the list of URLs.\n",
    "    \"\"\"\n",
    "    # If the list is empty, return 0\n",
    "    if not url_list:\n",
    "        return 0\n",
    "    \n",
    "    # Find the longest URL in the list and return its length\n",
    "    longest_url = max(url_list, key=len)\n",
    "    return len(longest_url)\n",
    "\n",
    "\n",
    "df[['Body', 'From', 'Return-Path']] = df['Content'].apply(extract_mail_components).apply(pd.Series)\n",
    "df['Urls'] = df['Body'].apply(extract_urls)\n",
    "\n",
    "# Add a new column indicating if 'From' contains an IP address\n",
    "df['Has_IP_in_From'] = df['From'].apply(contains_ip_address)\n",
    "\n",
    "# Add a new column indicating if domains match between 'From' and 'Return-Path'\n",
    "df['Domains_Match'] = df.apply(lambda row: domains_match(row['From'], row['Return-Path']), axis=1)\n",
    "\n",
    "# Add a new column indicating if 'Return-Path' is missing\n",
    "df['Is_Return_Path_Missing'] = df['Return-Path'].apply(is_return_path_missing)\n",
    "\n",
    "# Add a new column indicating the number of URLs in the 'Urls' column\n",
    "df['Num_Urls'] = df['Urls'].apply(len)\n",
    "\n",
    "# Add a new column for the count of special characters in the 'Content' column\n",
    "df['Num_Special_Chars'] = df['Body'].apply(count_special_characters)\n",
    "\n",
    "# Create a new column 'Contains_HTTP' to check for 'http' URLs\n",
    "df['Contains_HTTP'] = df['Urls'].apply(contains_http)\n",
    "\n",
    "# Create a new column 'Contains_IP' to check for IP addresses in URLs\n",
    "df['Contains_IP'] = df['Urls'].apply(contains_ip)\n",
    "\n",
    "# Add a new column indicating whether 'Content' contains HTML elements\n",
    "df['Contains_HTML'] = df['Body'].apply(contains_html)\n",
    "\n",
    "# Create a new column 'Contains_Redirect' to check for redirects in URLs\n",
    "df['Contains_Redirect'] = df['Urls'].apply(contains_redirect)\n",
    "\n",
    "# Apply the function to the `Urls` column and create a new column\n",
    "df['Special_Char_Count_in_URLs'] = df['Urls'].apply(count_special_characters_in_urls)\n",
    "\n",
    "# Apply the function to the `Urls` column and create a new column\n",
    "df['Longest_URL_Length'] = df['Urls'].apply(length_of_longest_url)\n",
    "\n",
    "#Add these columns to the body\n",
    "\n",
    "def combine_row(row):\n",
    "    # Combine metadata and text using [SEP]\n",
    "    combined_input = (\n",
    "    f\"Has_IP_in_From : {row['Has_IP_in_From']} [SEP] \"\n",
    "    f\"Domains_Match : {row['Domains_Match']} [SEP] \"\n",
    "    f\"Is_Return_Path_Missing : {row['Is_Return_Path_Missing']} [SEP] \"\n",
    "    f\"Num_Urls : {row['Num_Urls']} [SEP] \"\n",
    "    f\"Num_Special_Chars : {row['Num_Special_Chars']} [SEP] \"\n",
    "    f\"Contains_HTTP : {row['Contains_HTTP']} [SEP] \"\n",
    "    f\"Contains_IP : {row['Contains_IP']} [SEP] \"\n",
    "    f\"Contains_HTML : {row['Contains_HTML']} [SEP] \"\n",
    "    f\"Contains_Redirect : {row['Contains_Redirect']} [SEP] \"\n",
    "    f\"Special_Char_Count_in_URLs : {row['Special_Char_Count_in_URLs']} [SEP] \"\n",
    "    f\"Longest_URL_Length : {row['Longest_URL_Length']} [SEP] \"\n",
    "    f\"{row['Body']}\"\n",
    "    )\n",
    "    \n",
    "    return combined_input\n",
    "\n",
    "# Apply tokenization to each row\n",
    "df[\"combined_input\"] = df.apply(combine_row, axis=1)\n",
    "\n"
   ]
  },
  {
   "cell_type": "code",
   "execution_count": 3,
   "metadata": {},
   "outputs": [
    {
     "name": "stderr",
     "output_type": "stream",
     "text": [
      "Some weights of BertForSequenceClassification were not initialized from the model checkpoint at bert-base-uncased and are newly initialized: ['classifier.bias', 'classifier.weight']\n",
      "You should probably TRAIN this model on a down-stream task to be able to use it for predictions and inference.\n"
     ]
    }
   ],
   "source": [
    "\n",
    "train_data, test_data = train_test_split(df, test_size=0.2, random_state=42)\n",
    "\n",
    "train_texts = train_data['combined_input'].tolist()\n",
    "train_labels = train_data['Label'].tolist()\n",
    "\n",
    "test_texts = test_data['combined_input'].tolist()\n",
    "test_labels = test_data['Label'].tolist()\n",
    "\n",
    "tokenizer = BertTokenizer.from_pretrained(\"bert-base-uncased\") \n",
    "model = BertForSequenceClassification.from_pretrained(\"bert-base-uncased\", num_labels=2)  # Adjust num_labels for your task\n",
    "\n",
    "# Tokenize data\n",
    "train_encodings = tokenizer(train_texts, truncation=True, padding=True, max_length=512, return_tensors=\"pt\")\n",
    "test_encodings = tokenizer(test_texts, truncation=True, padding=True, max_length=512, return_tensors=\"pt\")\n"
   ]
  },
  {
   "cell_type": "code",
   "execution_count": 4,
   "metadata": {},
   "outputs": [],
   "source": [
    "class Dataset(torch.utils.data.Dataset):\n",
    "    def __init__(self, encodings, labels):\n",
    "        self.encodings = encodings\n",
    "        self.labels = labels\n",
    "\n",
    "    def __len__(self):\n",
    "        return len(self.labels)\n",
    "\n",
    "    def __getitem__(self, idx):\n",
    "        item = {key: torch.tensor(val[idx]) for key, val in self.encodings.items()}\n",
    "        item['labels'] = torch.tensor(self.labels[idx])\n",
    "        return item\n",
    "\n",
    "train_dataset = Dataset(train_encodings, train_labels)\n",
    "test_dataset = Dataset(test_encodings, test_labels)"
   ]
  },
  {
   "cell_type": "code",
   "execution_count": 5,
   "metadata": {},
   "outputs": [
    {
     "name": "stderr",
     "output_type": "stream",
     "text": [
      "  0%|          | 0/933 [00:00<?, ?it/s]C:\\Users\\Asus\\AppData\\Local\\Temp\\ipykernel_5540\\2162159181.py:10: UserWarning: To copy construct from a tensor, it is recommended to use sourceTensor.clone().detach() or sourceTensor.clone().detach().requires_grad_(True), rather than torch.tensor(sourceTensor).\n",
      "  item = {key: torch.tensor(val[idx]) for key, val in self.encodings.items()}\n",
      "                                                     \n",
      " 33%|███▎      | 311/933 [2:07:13<3:58:29, 23.01s/it]"
     ]
    },
    {
     "name": "stdout",
     "output_type": "stream",
     "text": [
      "{'eval_loss': 0.08298657834529877, 'eval_runtime': 432.0408, 'eval_samples_per_second': 4.328, 'eval_steps_per_second': 0.542, 'epoch': 1.0}\n"
     ]
    },
    {
     "name": "stderr",
     "output_type": "stream",
     "text": [
      "C:\\Users\\Asus\\AppData\\Local\\Temp\\ipykernel_5540\\2162159181.py:10: UserWarning: To copy construct from a tensor, it is recommended to use sourceTensor.clone().detach() or sourceTensor.clone().detach().requires_grad_(True), rather than torch.tensor(sourceTensor).\n",
      "  item = {key: torch.tensor(val[idx]) for key, val in self.encodings.items()}\n",
      " 54%|█████▎    | 500/933 [3:19:31<2:45:53, 22.99s/it]  "
     ]
    },
    {
     "name": "stdout",
     "output_type": "stream",
     "text": [
      "{'loss': 0.1272, 'grad_norm': 1.0481102466583252, 'learning_rate': 9.281886387995713e-06, 'epoch': 1.6}\n"
     ]
    },
    {
     "name": "stderr",
     "output_type": "stream",
     "text": [
      "                                                     \n",
      " 67%|██████▋   | 623/933 [4:13:37<1:59:11, 23.07s/it]"
     ]
    },
    {
     "name": "stdout",
     "output_type": "stream",
     "text": [
      "{'eval_loss': 0.05555586889386177, 'eval_runtime': 433.752, 'eval_samples_per_second': 4.311, 'eval_steps_per_second': 0.539, 'epoch': 2.0}\n"
     ]
    },
    {
     "name": "stderr",
     "output_type": "stream",
     "text": [
      "C:\\Users\\Asus\\AppData\\Local\\Temp\\ipykernel_5540\\2162159181.py:10: UserWarning: To copy construct from a tensor, it is recommended to use sourceTensor.clone().detach() or sourceTensor.clone().detach().requires_grad_(True), rather than torch.tensor(sourceTensor).\n",
      "  item = {key: torch.tensor(val[idx]) for key, val in self.encodings.items()}\n",
      "100%|██████████| 933/933 [6:12:43<00:00, 23.13s/it]    C:\\Users\\Asus\\AppData\\Local\\Temp\\ipykernel_5540\\2162159181.py:10: UserWarning: To copy construct from a tensor, it is recommended to use sourceTensor.clone().detach() or sourceTensor.clone().detach().requires_grad_(True), rather than torch.tensor(sourceTensor).\n",
      "  item = {key: torch.tensor(val[idx]) for key, val in self.encodings.items()}\n",
      "                                                   \n",
      "100%|██████████| 933/933 [6:20:02<00:00, 23.13s/it]"
     ]
    },
    {
     "name": "stdout",
     "output_type": "stream",
     "text": [
      "{'eval_loss': 0.05078428238630295, 'eval_runtime': 438.8479, 'eval_samples_per_second': 4.261, 'eval_steps_per_second': 0.533, 'epoch': 2.99}\n"
     ]
    },
    {
     "name": "stderr",
     "output_type": "stream",
     "text": [
      "100%|██████████| 933/933 [6:20:04<00:00, 24.44s/it]\n"
     ]
    },
    {
     "name": "stdout",
     "output_type": "stream",
     "text": [
      "{'train_runtime': 22804.2479, 'train_samples_per_second': 0.984, 'train_steps_per_second': 0.041, 'train_loss': 0.09300235000070652, 'epoch': 2.99}\n"
     ]
    },
    {
     "data": {
      "text/plain": [
       "('saved_model_withFlag\\\\tokenizer_config.json',\n",
       " 'saved_model_withFlag\\\\special_tokens_map.json',\n",
       " 'saved_model_withFlag\\\\vocab.txt',\n",
       " 'saved_model_withFlag\\\\added_tokens.json')"
      ]
     },
     "execution_count": 5,
     "metadata": {},
     "output_type": "execute_result"
    }
   ],
   "source": [
    "training_args = TrainingArguments(\n",
    "    output_dir=\"./results_withFlag\",\n",
    "    eval_strategy=\"epoch\",\n",
    "    learning_rate=2e-5,\n",
    "    per_device_train_batch_size=8,\n",
    "    per_device_eval_batch_size=8,\n",
    "    gradient_accumulation_steps=3,\n",
    "    num_train_epochs=3,\n",
    "    weight_decay=0.01,\n",
    "    logging_dir=\"./logs_withFlag\",\n",
    "    save_strategy=\"epoch\",\n",
    "    save_total_limit=4,\n",
    "    fp16=True,  # Use mixed precision if using a GPU\n",
    ")\n",
    "\n",
    "trainer = Trainer(\n",
    "    model=model,\n",
    "    args=training_args,\n",
    "    train_dataset=train_dataset,\n",
    "    eval_dataset=test_dataset,\n",
    ")\n",
    "\n",
    "trainer.train()\n",
    "\n",
    "model.save_pretrained(\"saved_model_withFlag\")\n",
    "tokenizer.save_pretrained(\"saved_model_withFlag\")"
   ]
  },
  {
   "cell_type": "code",
   "execution_count": 6,
   "metadata": {},
   "outputs": [
    {
     "name": "stderr",
     "output_type": "stream",
     "text": [
      "C:\\Users\\Asus\\AppData\\Local\\Temp\\ipykernel_5540\\2162159181.py:10: UserWarning: To copy construct from a tensor, it is recommended to use sourceTensor.clone().detach() or sourceTensor.clone().detach().requires_grad_(True), rather than torch.tensor(sourceTensor).\n",
      "  item = {key: torch.tensor(val[idx]) for key, val in self.encodings.items()}\n",
      "100%|██████████| 234/234 [07:02<00:00,  1.80s/it]"
     ]
    },
    {
     "name": "stdout",
     "output_type": "stream",
     "text": [
      "Accuracy: 0.9834224598930481\n",
      "Classification Report:\n",
      "               precision    recall  f1-score   support\n",
      "\n",
      "           0       0.99      0.99      0.99      1366\n",
      "           1       0.96      0.97      0.97       504\n",
      "\n",
      "    accuracy                           0.98      1870\n",
      "   macro avg       0.98      0.98      0.98      1870\n",
      "weighted avg       0.98      0.98      0.98      1870\n",
      "\n"
     ]
    },
    {
     "name": "stderr",
     "output_type": "stream",
     "text": [
      "\n"
     ]
    }
   ],
   "source": [
    "# Predict on the test set using the trainer\n",
    "results = trainer.predict(test_dataset)\n",
    "\n",
    "# Extract the predictions and true labels\n",
    "preds = results.predictions.argmax(axis=-1)  # Get the predicted labels\n",
    "true_labels = results.label_ids  # True labels\n",
    "\n",
    "# Evaluation metrics\n",
    "print(\"Accuracy:\", accuracy_score(true_labels, preds))\n",
    "print(\"Classification Report:\\n\", classification_report(true_labels, preds))"
   ]
  },
  {
   "cell_type": "code",
   "execution_count": 7,
   "metadata": {},
   "outputs": [
    {
     "name": "stdout",
     "output_type": "stream",
     "text": [
      "Confusion Matrix:\n",
      " [[1348   18]\n",
      " [  13  491]]\n"
     ]
    },
    {
     "data": {
      "image/png": "[encoded data removed]",
      "text/plain": [
       "<Figure size 800x600 with 2 Axes>"
      ]
     },
     "metadata": {},
     "output_type": "display_data"
    }
   ],
   "source": [
    "from sklearn.metrics import confusion_matrix, ConfusionMatrixDisplay\n",
    "import matplotlib.pyplot as plt\n",
    "import seaborn as sns\n",
    "\n",
    "# Compute confusion matrix\n",
    "cm = confusion_matrix(true_labels, preds)\n",
    "print(\"Confusion Matrix:\\n\", cm)\n",
    "\n",
    "# Plot confusion matrix with seaborn\n",
    "plt.figure(figsize=(8, 6))\n",
    "sns.heatmap(cm, annot=True, fmt='d', cmap='Blues', xticklabels=['Non-Phishing', 'Phishing'], yticklabels=['Non-Phishing', 'Phishing'])\n",
    "plt.xlabel('Predicted Labels')\n",
    "plt.ylabel('True Labels')\n",
    "plt.title('Confusion Matrix')\n",
    "plt.show()"
   ]
  }
 ],
 "metadata": {
  "kernelspec": {
   "display_name": "Python 3",
   "language": "python",
   "name": "python3"
  },
  "language_info": {
   "codemirror_mode": {
    "name": "ipython",
    "version": 3
   },
   "file_extension": ".py",
   "mimetype": "text/x-python",
   "name": "python",
   "nbconvert_exporter": "python",
   "pygments_lexer": "ipython3",
   "version": "3.12.0"
  }
 },
 "nbformat": 4,
 "nbformat_minor": 2
}
